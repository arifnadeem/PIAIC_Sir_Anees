{
 "cells": [
  {
   "cell_type": "code",
   "execution_count": 15,
   "metadata": {},
   "outputs": [
    {
     "name": "stdout",
     "output_type": "stream",
     "text": [
      "Please Enter the radius of a circle : 0.5\n",
      "area Of circle is :  0.7855\n"
     ]
    }
   ],
   "source": [
    "# 1. Calculate Area of a Circle\n",
    "π = 3.142\n",
    "r = float(input('Please Enter the radius of a circle : '))\n",
    "area = π*r**2\n",
    "print(\"area Of circle is : \",area)"
   ]
  },
  {
   "cell_type": "code",
   "execution_count": 24,
   "metadata": {},
   "outputs": [
    {
     "name": "stdout",
     "output_type": "stream",
     "text": [
      "Write a number to check if a number is positive, negative or zero -5\n",
      "Negative number\n"
     ]
    }
   ],
   "source": [
    "# 2. Check Number either positive, negative or zero\n",
    "num = float(input(\"Write a number to check if a number is positive, negative or zero \"))\n",
    "\n",
    "if num > 0: \n",
    "   print(\"Positive number\")\n",
    "elif num == 0: \n",
    "   print(\"Zero Entered\")\n",
    "else: \n",
    "   print(\"Negative number\")"
   ]
  },
  {
   "cell_type": "code",
   "execution_count": 6,
   "metadata": {},
   "outputs": [
    {
     "name": "stdout",
     "output_type": "stream",
     "text": [
      "Enter Numerator: 2\n",
      "Enter Denominator: 4\n",
      "Number 2 is not Completely  divisible by 4.\n"
     ]
    }
   ],
   "source": [
    "# 3. Divisibility Check of two numbers\n",
    "a = int(input(\"Enter Numerator: \"))\n",
    "b = int(input(\"Enter Denominator: \"))\n",
    "if a%b == 0:\n",
    "       print(\"Number \" + str(a) + \" is Completely  divisible by \" + str(b) + \".\")\n",
    "else:\n",
    "       print(\"Number \" + str(a) + \" is not Completely  divisible by \" +  str(b) + \".\")"
   ]
  },
  {
   "cell_type": "code",
   "execution_count": 39,
   "metadata": {},
   "outputs": [
    {
     "name": "stdout",
     "output_type": "stream",
     "text": [
      "Difference between two dates is 365\n"
     ]
    }
   ],
   "source": [
    "# 4. Days Calculator\n",
    "def getDifference(dt1, dt2) : \n",
    "  \n",
    "    # COUNT TOTAL NUMBER OF DAYS  \n",
    "    # BEFORE FIRST DATE 'dt1'  \n",
    "  \n",
    "    # initialize count using years and day  \n",
    "    n1 = dt1.y * 365 + dt1.d  \n",
    "  \n",
    "    # Add days for months in given date  \n",
    "    for i in range(0, dt1.m - 1) : \n",
    "        n1 += monthDays[i]  \n",
    "  \n",
    "    # Since every leap year is of 366 days,  \n",
    "    # Add a day for every leap year  \n",
    "    n1 += countLeapYears(dt1)  \n",
    "  \n",
    "    # SIMILARLY, COUNT TOTAL NUMBER  \n",
    "    # OF DAYS BEFORE 'dt2'  \n",
    "    n2 = dt2.y * 365 + dt2.d  \n",
    "    for i in range(0, dt2.m - 1) : \n",
    "        n2 += monthDays[i]  \n",
    "    n2 += countLeapYears(dt2)  \n",
    "  \n",
    "    # return difference between  \n",
    "    # two counts  \n",
    "    return (n2 - n1)  \n",
    "  \n",
    "# Driver Code \n",
    "dt1 = Date(1, 2, 2018 ) \n",
    "dt2 = Date(1, 2, 2019 )\n",
    "\n",
    "#print(\"There are \" + dt1 and dt2 +\"days in between 1, 2, 2018  and 1, 2, 2019\", getDifference(dt1, dt2)) \n",
    "print(\"Difference between two dates is\", getDifference(dt1, dt2)) "
   ]
  },
  {
   "cell_type": "code",
   "execution_count": 32,
   "metadata": {},
   "outputs": [
    {
     "name": "stdout",
     "output_type": "stream",
     "text": [
      "Enter Radius of Sphere: 1\n",
      "Volume of the Sphere with Radius 1  is 4.19 .\n"
     ]
    }
   ],
   "source": [
    "# 5. Calculate Volume of a sphere\n",
    "π = 3.142\n",
    "radius_sphere = int(input(\"Enter Radius of Sphere: \"))\n",
    "#volume_of_Sphere = ((4%3)*π*radius_sphere**3)\n",
    "volume_of_Sphere = 4/3 * π * radius_sphere**3 \n",
    "print(\"Volume of the Sphere with Radius \" + str(radius_sphere) + \"  is \" + \"%.2f\" % volume_of_Sphere + \" .\")"
   ]
  },
  {
   "cell_type": "code",
   "execution_count": 9,
   "metadata": {},
   "outputs": [
    {
     "name": "stdout",
     "output_type": "stream",
     "text": [
      "Enter String: Hi\n",
      "How many copies of String you need: 4\n",
      "4 Copies of  Hi are HiHiHiHi\n"
     ]
    }
   ],
   "source": [
    "# 6. Copy string n times\n",
    "string = (str (input(\"Enter String: \")))\n",
    "n = int(input(\"How many copies of String you need: \"))\n",
    "print(n, \"Copies of \", string , \"are\" , string * n)"
   ]
  },
  {
   "cell_type": "code",
   "execution_count": 11,
   "metadata": {},
   "outputs": [
    {
     "name": "stdout",
     "output_type": "stream",
     "text": [
      "Enter Number: 4\n",
      "4 is Even\n",
      "Enter Number: 9\n",
      "9 is Odd\n"
     ]
    }
   ],
   "source": [
    "# 7. Check if number is Even or Odd\n",
    "# Checking for odd and even \n",
    "#For Output 1\n",
    "num = int(input(\"Enter Number: \"))\n",
    "if (num % 2) == 0: \n",
    "   print(\"{0} is Even\".format(num)) \n",
    "else: \n",
    "   print(\"{0} is Odd\".format(num)) \n",
    "\n",
    "#For Output 2\n",
    "num = int(input(\"Enter Number: \"))\n",
    "if (num % 2) == 0: \n",
    "   print(\"{0} is Even\".format(num)) \n",
    "else: \n",
    "   print(\"{0} is Odd\".format(num)) "
   ]
  },
  {
   "cell_type": "code",
   "execution_count": 12,
   "metadata": {},
   "outputs": [
    {
     "name": "stdout",
     "output_type": "stream",
     "text": [
      "Enter a Character: A\n",
      "Letter A is Vowel.\n",
      "Enter a Character: e\n",
      "Letter e is Vowel.\n",
      "Enter a Character: N\n",
      "Letter N is not Vowel.\n"
     ]
    }
   ],
   "source": [
    "#8. Vowel Tester\n",
    "#For Output 1\n",
    "char = input(\"Enter a Character: \")\n",
    "c = char.lower()\n",
    "if c == \"a\" or c == \"e\" or c == \"i\" or c == \"o\" or c == \"u\" :\n",
    "    print(\"Letter\",char, \"is Vowel.\")\n",
    "else:\n",
    "    print(\"Letter\",char, \"is not Vowel.\")\n",
    "\n",
    "#For Output 2\n",
    "char = input(\"Enter a Character: \")\n",
    "c = char.lower()\n",
    "if c == \"a\" or c == \"e\" or c == \"i\" or c == \"o\" or c == \"u\" :\n",
    "    print(\"Letter\",char, \"is Vowel.\")\n",
    "else:\n",
    "    print(\"Letter\",char, \"is not Vowel.\")\n",
    "\n",
    "#For Output 3\n",
    "char = input(\"Enter a Character: \")\n",
    "c = char.lower()\n",
    "if c == \"a\" or c == \"e\" or c == \"i\" or c == \"o\" or c == \"u\" :\n",
    "    print(\"Letter\",char, \"is Vowel.\")\n",
    "else:\n",
    "    print(\"Letter\",char, \"is not Vowel.\")"
   ]
  },
  {
   "cell_type": "code",
   "execution_count": 13,
   "metadata": {},
   "outputs": [
    {
     "name": "stdout",
     "output_type": "stream",
     "text": [
      "Enter Magnitude of Triangle base : 4\n",
      "Enter Magnitude of Triangle Height : 4\n",
      "Area of Triangle Height 4 and Base 4 is 8.0\n"
     ]
    }
   ],
   "source": [
    "#9. Triangle area\n",
    "Base = int(input(\"Enter Magnitude of Triangle base : \"))\n",
    "Height = int(input(\"Enter Magnitude of Triangle Height : \"))\n",
    "Area = (Base * Height) / 2\n",
    "print(\"Area of Triangle Height\",Height,\"and Base\",Base,\"is\",Area)"
   ]
  },
  {
   "cell_type": "code",
   "execution_count": 14,
   "metadata": {},
   "outputs": [
    {
     "name": "stdout",
     "output_type": "stream",
     "text": [
      "Please Enter Principle Amount: 1000\n",
      "Please Enter rate of interest per year in %: 0.1\n",
      "Enter Number of years for Investment: 5\n",
      "After 5 years your principal amount 1000 over an interest rate of 0.1 % will be 1610.5\n"
     ]
    }
   ],
   "source": [
    "#10. Calculate Interest\n",
    "p = int(input(\"Please Enter Principle Amount: \"))\n",
    "r = float(input(\"Please Enter rate of interest per year in %: \"))\n",
    "y = int(input(\"Enter Number of years for Investment: \"))\n",
    "fv = p * (1+r)**y\n",
    "print (\"After\",y,\"years your principal amount\",p,\"over an interest rate of\",r,\"% will be\",round(fv,1))"
   ]
  },
  {
   "cell_type": "code",
   "execution_count": 15,
   "metadata": {},
   "outputs": [
    {
     "name": "stdout",
     "output_type": "stream",
     "text": [
      "Enter Co-ordinate for x1: 2\n",
      "Enter Co-ordinate for x2: 4\n",
      "Enter Co-ordinate for y1: 4\n",
      "Enter Co-ordinate for y2: 4\n",
      "Distance Between Points ( 2 , 4 ) and ( 4 , 4 ) is:  2.0\n"
     ]
    }
   ],
   "source": [
    "#11. Euclidean distance\n",
    "import math\n",
    "x1 = int(input(\"Enter Co-ordinate for x1: \"))\n",
    "x2 = int(input(\"Enter Co-ordinate for x2: \"))\n",
    "y1 = int(input(\"Enter Co-ordinate for y1: \"))\n",
    "y2 = int(input(\"Enter Co-ordinate for y2: \"))\n",
    "d = (x1 - x2)*(x1 - x2) + (y1 - y2)*(y1 - y2)\n",
    "e = math.sqrt(d)\n",
    "print(\"Distance Between Points (\", x1 , \",\" , x2 , \") and (\" ,y1, \",\" , y2 , \") is: \",e)"
   ]
  },
  {
   "cell_type": "code",
   "execution_count": 16,
   "metadata": {},
   "outputs": [
    {
     "name": "stdout",
     "output_type": "stream",
     "text": [
      "Enter Height in Feet : 5\n",
      "There are 152.4 cm in 5.0 ft\n"
     ]
    }
   ],
   "source": [
    "#12. Feet to Centimeter Converter\n",
    "ft = float(input(\"Enter Height in Feet : \"))\n",
    "print(\"There are\", ft * 30.48,\"cm\",\"in\",ft,\"ft\" )"
   ]
  },
  {
   "cell_type": "code",
   "execution_count": 17,
   "metadata": {},
   "outputs": [
    {
     "name": "stdout",
     "output_type": "stream",
     "text": [
      "Enter Height in Cm: 180\n",
      "Enter Weight in Kg: 75\n",
      "Your BMI is:  23.15\n"
     ]
    }
   ],
   "source": [
    "#13. BMI Calculator\n",
    "h = float(input(\"Enter Height in Cm: \"))\n",
    "w = float(input(\"Enter Weight in Kg: \"))\n",
    "bmi = round( w / (( h * 0.01 )**2) ,2 )\n",
    "print( \"Your BMI is: \", bmi )"
   ]
  },
  {
   "cell_type": "code",
   "execution_count": 18,
   "metadata": {},
   "outputs": [
    {
     "name": "stdout",
     "output_type": "stream",
     "text": [
      "Enter value of n : 5\n",
      "Sum of N Posistive Inetegers till 5 is :  15.0\n"
     ]
    }
   ],
   "source": [
    "#14. Sum of n Positive Integers\n",
    "n = int(input(\"Enter value of n : \"))\n",
    "sum = (n*(n+1)) / 2\n",
    "print(\"Sum of N Posistive Inetegers till\", n ,\"is : \", sum)"
   ]
  },
  {
   "cell_type": "code",
   "execution_count": 19,
   "metadata": {},
   "outputs": [
    {
     "name": "stdout",
     "output_type": "stream",
     "text": [
      "Enter a Number: 15\n",
      "Sum of 1 + 5 is : 6\n",
      "Enter a Number: 1234\n",
      "Sum of 1 + 2 + 3 + 4 is : 10\n"
     ]
    }
   ],
   "source": [
    "#15. Digits Sum of a Number\n",
    "#For Output 1\n",
    "n = str(input(\"Enter a Number: \"))\n",
    "sum = 0 \n",
    "for s in n:\n",
    "    sum += int(s)\n",
    "print(\"Sum of\", ' + '.join(map(str,n)) ,\"is :\",sum)\n",
    "\n",
    "#For Output 2\n",
    "n = str(input(\"Enter a Number: \"))\n",
    "sum = 0 \n",
    "for s in n:\n",
    "    sum += int(s)\n",
    "print(\"Sum of\", ' + '.join(map(str,n)) ,\"is :\",sum)"
   ]
  },
  {
   "cell_type": "code",
   "execution_count": 20,
   "metadata": {},
   "outputs": [
    {
     "name": "stdout",
     "output_type": "stream",
     "text": [
      "Enter a Decimal number: 5\n",
      "Binary Reperesentation of 5 is : 101\n",
      "Enter a Decimal number: 32\n",
      "Binary Reperesentation of 32 is : 100000\n"
     ]
    }
   ],
   "source": [
    "#16. Decimal to Binary Converter\n",
    "#For Output 1\n",
    "d = int(input(\"Enter a Decimal number: \"))\n",
    "b = bin(d)\n",
    "print(\"Binary Reperesentation of\",d,\"is :\", b[2:])\n",
    "\n",
    "#For Output 2\n",
    "d = int(input(\"Enter a Decimal number: \"))\n",
    "b = bin(d)\n",
    "print(\"Binary Reperesentation of\",d,\"is :\", b[2:])"
   ]
  },
  {
   "cell_type": "code",
   "execution_count": 21,
   "metadata": {},
   "outputs": [
    {
     "name": "stdout",
     "output_type": "stream",
     "text": [
      "Enter a Binary number : 1101\n",
      "Decimal Reperesentation of 1101 is : 13\n",
      "Enter a Binary number : 1001\n",
      "Decimal Reperesentation of 1001 is : 9\n"
     ]
    }
   ],
   "source": [
    "#17. Binary to Decimal Converter\n",
    "#For Output 1\n",
    "b = input(\"Enter a Binary number : \")\n",
    "d = int(b,2)\n",
    "print(\"Decimal Reperesentation of\",b,\"is :\",d)\n",
    "\n",
    "#For Output 2\n",
    "b = input(\"Enter a Binary number : \")\n",
    "d = int(b,2)\n",
    "print(\"Decimal Reperesentation of\",b,\"is :\",d)"
   ]
  },
  {
   "cell_type": "code",
   "execution_count": 22,
   "metadata": {},
   "outputs": [
    {
     "name": "stdout",
     "output_type": "stream",
     "text": [
      "Enter Text : QuickBrownFoxJumpsovertheDog\n",
      "Vowels : 9\n",
      "Consonants : 19\n"
     ]
    }
   ],
   "source": [
    "#18. Vowel and Consonants Counter\n",
    "a = input(\"Enter Text : \")\n",
    "c = a.lower()\n",
    "Vowel = 0\n",
    "Consonant = 0\n",
    "for x in c:\n",
    "    if x == \"a\" or x == \"e\" or x == \"i\" or x == \"o\" or x == \"u\":\n",
    "        Vowel += 1\n",
    "    else:\n",
    "        Consonant += 1\n",
    "print(\"Vowels :\", Vowel)\n",
    "print(\"Consonants :\", Consonant)"
   ]
  },
  {
   "cell_type": "code",
   "execution_count": 23,
   "metadata": {},
   "outputs": [
    {
     "name": "stdout",
     "output_type": "stream",
     "text": [
      "Enter Text : AHA\n",
      "Text is Palindrome. \n",
      "Enter Text : Hello\n",
      "Text is Not Palindrome. \n"
     ]
    }
   ],
   "source": [
    "#19. Palindrome tester\n",
    "#For Output 1\n",
    "string = str(input(\"Enter Text : \"))\n",
    "string = string.casefold()\n",
    "str_rev = reversed( string )\n",
    "\n",
    "if list( string ) == list( str_rev ):\n",
    "    print(\"Text is Palindrome. \")\n",
    "else:\n",
    "    print(\"Text is Not Palindrome. \")\n",
    "    \n",
    "    \n",
    "#For Output 2\n",
    "string = str(input(\"Enter Text : \"))\n",
    "string = string.casefold()\n",
    "str_rev = reversed( string )\n",
    "\n",
    "if list( string ) == list( str_rev ):\n",
    "    print(\"Text is Palindrome. \")\n",
    "else:\n",
    "    print(\"Text is Not Palindrome. \")"
   ]
  },
  {
   "cell_type": "code",
   "execution_count": 24,
   "metadata": {},
   "outputs": [
    {
     "name": "stdout",
     "output_type": "stream",
     "text": [
      "Enter Text : Python 3.2\n",
      "Numbers:             2\n",
      "Alphabets:           6\n",
      "Special Characters:  1\n",
      "Space:               1\n"
     ]
    }
   ],
   "source": [
    "#20. Count Alphabets, Numbers and Special Characters\n",
    "string = input(\"Enter Text : \")\n",
    "alpha = 0\n",
    "digit = 0\n",
    "sc = 0\n",
    "space = 0\n",
    "for x in string:\n",
    "    if int(ord(x)) >= 65 and int(ord(x)) <= 122:\n",
    "        alpha += 1\n",
    "    elif int(ord(x)) >= 48 and int(ord(x)) <= 57:\n",
    "        digit += 1\n",
    "    elif x == \" \":\n",
    "        space += 1\n",
    "    else:\n",
    "        sc += 1\n",
    "print(\"Numbers:            \",digit)\n",
    "print(\"Alphabets:          \",alpha)\n",
    "print(\"Special Characters: \",sc)\n",
    "print(\"Space:              \",space)"
   ]
  },
  {
   "cell_type": "code",
   "execution_count": 25,
   "metadata": {},
   "outputs": [
    {
     "name": "stdout",
     "output_type": "stream",
     "text": [
      "*  \n",
      "* *  \n",
      "* * *  \n",
      "* * * *  \n",
      "* * * * *  \n",
      "* * * *  \n",
      "* * *  \n",
      "* *  \n",
      "*  \n"
     ]
    }
   ],
   "source": [
    "#21. Write a Python program to construct the following pattern\n",
    "i = 6\n",
    "d = 0\n",
    "for x in range(1,i):\n",
    "    for y in range(1, x + 1):\n",
    "        print (\"*\" , end = \" \")\n",
    "    print(\" \")\n",
    "for r in range(4,d,-1):\n",
    "    for c in range(1, r + 1):\n",
    "        print (\"*\" , end = \" \")\n",
    "    print(\" \")"
   ]
  },
  {
   "cell_type": "code",
   "execution_count": 26,
   "metadata": {},
   "outputs": [
    {
     "name": "stdout",
     "output_type": "stream",
     "text": [
      "1  \n",
      "1 2  \n",
      "1 2 3  \n",
      "1 2 3 4  \n",
      "1 2 3 4 5  \n",
      "1 2 3 4  \n",
      "1 2 3  \n",
      "1 2  \n",
      "1  \n"
     ]
    }
   ],
   "source": [
    "#22. Write a Python program to construct the following pattern\n",
    "i = 6\n",
    "d = 0\n",
    "for x in range(1,i):\n",
    "    for y in range(1, x + 1):\n",
    "        print (y , end = \" \")\n",
    "    print(\" \")\n",
    "for r in range(4,d,-1):\n",
    "    for c in range(1, r + 1):\n",
    "        print (c , end = \" \")\n",
    "    print(\" \")"
   ]
  },
  {
   "cell_type": "code",
   "execution_count": 27,
   "metadata": {},
   "outputs": [
    {
     "name": "stdout",
     "output_type": "stream",
     "text": [
      " \n",
      "1  \n",
      "2 2  \n",
      "3 3 3  \n",
      "4 4 4 4  \n",
      "5 5 5 5 5  \n",
      "6 6 6 6 6 6  \n",
      "7 7 7 7 7 7 7  \n",
      "8 8 8 8 8 8 8 8  \n",
      "9 9 9 9 9 9 9 9 9  \n"
     ]
    }
   ],
   "source": [
    "#23. Write a Python program to construct the following pattern\n",
    "for i in range(10):\n",
    "    for f in range(i):\n",
    "        print(i, end = ' ')\n",
    "    print(\" \")"
   ]
  }
 ],
 "metadata": {
  "kernelspec": {
   "display_name": "Python 3",
   "language": "python",
   "name": "python3"
  },
  "language_info": {
   "codemirror_mode": {
    "name": "ipython",
    "version": 3
   },
   "file_extension": ".py",
   "mimetype": "text/x-python",
   "name": "python",
   "nbconvert_exporter": "python",
   "pygments_lexer": "ipython3",
   "version": "3.7.3"
  }
 },
 "nbformat": 4,
 "nbformat_minor": 2
}
