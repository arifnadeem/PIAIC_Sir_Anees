{
 "cells": [
  {
   "cell_type": "code",
   "execution_count": 1,
   "metadata": {},
   "outputs": [
    {
     "name": "stdout",
     "output_type": "stream",
     "text": [
      "Enter the marks of Discrete Mathematical Structures : 99\n",
      "Enter the marks of Linear Algebra : 88\n",
      "Enter the marks of Theory of Automata & Formal Languages : 77\n",
      "Enter the marks of System Programming : 66\n",
      "Enter the marks of Differential Equation : 55\n",
      "You got A grade\n",
      "Average Marks is :  77.0\n",
      "The Obtained Mark is Out of 500 / 385\n",
      "Yot Percentage is :  77.0\n"
     ]
    }
   ],
   "source": [
    "a = int(input(\"Enter the marks of Discrete Mathematical Structures : \"))\n",
    "b = int(input(\"Enter the marks of Linear Algebra : \"))\n",
    "c = int(input(\"Enter the marks of Theory of Automata & Formal Languages : \"))\n",
    "d = int(input(\"Enter the marks of System Programming : \"))\n",
    "e = int(input(\"Enter the marks of Differential Equation : \"))\n",
    "avg = (a+b+c+d+e)/5\n",
    "sum = a+b+c+d+e\n",
    "per = sum*100/500\n",
    "\n",
    "if(per<=100 and per>=90):\n",
    "    print(\"You got A+ grade\")\n",
    "elif (b<=89 and b>=80):\n",
    "    print(\"You got A grade\")\n",
    "elif (c<=79 and c>=70):\n",
    "    print(\"You got B grade\")\n",
    "elif (d<=69 and d>=60):\n",
    "    print(\"You got C grade\")\n",
    "elif (e<=59 and e>=50):\n",
    "    print(\"You got D grade\")\n",
    "elif (d<=49 and d>=40):\n",
    "    print(\"You got E grade\")\n",
    "elif (d<=39 and d>=30):\n",
    "    print(\"You got F grade\")\n",
    "else:\n",
    "    print(\"You Failed in this exam\")\n",
    "\n",
    "print(\"Average Marks is : \",avg)\n",
    "print(\"The Obtained Mark is Out of 500 /\",sum)\n",
    "print(\"Yot Percentage is : \",per)"
   ]
  }
 ],
 "metadata": {
  "kernelspec": {
   "display_name": "Python 3",
   "language": "python",
   "name": "python3"
  },
  "language_info": {
   "codemirror_mode": {
    "name": "ipython",
    "version": 3
   },
   "file_extension": ".py",
   "mimetype": "text/x-python",
   "name": "python",
   "nbconvert_exporter": "python",
   "pygments_lexer": "ipython3",
   "version": "3.7.3"
  }
 },
 "nbformat": 4,
 "nbformat_minor": 2
}
