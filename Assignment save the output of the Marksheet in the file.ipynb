{
 "cells": [
  {
   "cell_type": "code",
   "execution_count": 17,
   "metadata": {},
   "outputs": [
    {
     "name": "stdout",
     "output_type": "stream",
     "text": [
      "Enter the marks of Discrete Mathematical Structures : 99\n",
      "Enter the marks of Linear Algebra : 88\n",
      "Enter the marks of Theory of Automata & Formal Languages : 77\n",
      "Enter the marks of System Programming : 66\n",
      "Enter the marks of Differential Equation : 55\n",
      "Average Marks is :  77.0\n",
      "The Obtained Mark is Out of 500 / 385\n",
      "Yot Percentage is :  77.0\n",
      "Average Marks is :  77.0\n",
      "The Obtained Mark is Out of 500 / 385\n",
      "Yot Percentage is :  77.0\n"
     ]
    }
   ],
   "source": [
    "a = int(input(\"Enter the marks of Discrete Mathematical Structures : \"))\n",
    "b = int(input(\"Enter the marks of Linear Algebra : \"))\n",
    "c = int(input(\"Enter the marks of Theory of Automata & Formal Languages : \"))\n",
    "d = int(input(\"Enter the marks of System Programming : \"))\n",
    "e = int(input(\"Enter the marks of Differential Equation : \"))\n",
    "avg = (a+b+c+d+e)/5\n",
    "sum = a+b+c+d+e\n",
    "per = sum*100/500\n",
    "grades = \"\"\n",
    "\n",
    "if(per<=100 and per>=90):\n",
    "    grades = \"You got A+ grade\"\n",
    "elif (b<=89 and b>=80):\n",
    "    grades = \"You got A grade\"\n",
    "elif (c<=79 and c>=70):\n",
    "    grades = \"You got B grade\"\n",
    "elif (d<=69 and d>=60):\n",
    "    grades = \"You got C grade\"\n",
    "elif (e<=59 and e>=50):\n",
    "    grades = \"You got D grade\"\n",
    "elif (d<=49 and d>=40):\n",
    "    grades = \"You got E grade\"\n",
    "elif (d<=39 and d>=30):\n",
    "    grades = \"You got F grade\"\n",
    "\n",
    "print(\"Average Marks is : \",avg)\n",
    "print(\"The Obtained Mark is Out of 500 /\",sum)\n",
    "print(\"Yot Percentage is : \",per)\n",
    "print(\"Average Marks is : \",avg)\n",
    "print(\"The Obtained Mark is Out of 500 /\",sum)\n",
    "print(\"Yot Percentage is : \",per)\n",
    "\n",
    "with open(\"marksheet_output.csv\", \"w\") as f:\n",
    "    f.write(\"Discrete Mathematical Structures is : \" + str(a)+ \"\\n\")\n",
    "    f.write(\"Linear Algebra is : \" + str(b)+ \"\\n\")\n",
    "    f.write(\"Theory of Automata & Formal Languages is : \" + str(c)+ \"\\n\")\n",
    "    f.write(\"System Programming : \" + str(d)+ \"\\n\")\n",
    "    f.write(\"Differential Equation is : \" + str(e)+ \"\\n\")\n",
    "    f.write(\"Average Marks is : \" + str(avg)+ \"\\n\")\n",
    "    f.write(\"The Obtained Mark is Out of 500 /\" + str(sum)+ \"\\n\")\n",
    "    f.write(\"Yot Percentage is : \" + str(per)+ \"\\n\")\n",
    "    f.write(grades)"
   ]
  }
 ],
 "metadata": {
  "kernelspec": {
   "display_name": "Python 3",
   "language": "python",
   "name": "python3"
  }
 },
 "nbformat": 4,
 "nbformat_minor": 2
}
